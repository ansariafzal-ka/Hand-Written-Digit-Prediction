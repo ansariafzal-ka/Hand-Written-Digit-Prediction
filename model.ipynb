{
  "cells": [
    {
      "cell_type": "code",
      "execution_count": null,
      "metadata": {
        "id": "H80sTExHXHf7"
      },
      "outputs": [],
      "source": [
        "import tensorflow as tf\n",
        "import matplotlib.pyplot as plt\n",
        "import numpy as np\n",
        "import pickle"
      ]
    },
    {
      "cell_type": "code",
      "execution_count": null,
      "metadata": {
        "colab": {
          "base_uri": "https://localhost:8080/"
        },
        "id": "DRC2jgsbXPgl",
        "outputId": "9b8594aa-e02c-489a-97d5-b84edba035f6"
      },
      "outputs": [],
      "source": [
        "(x_train, y_train), (x_test, y_test) = tf.keras.datasets.mnist.load_data()"
      ]
    },
    {
      "cell_type": "code",
      "execution_count": null,
      "metadata": {
        "id": "sWAcK7nFXZH0"
      },
      "outputs": [],
      "source": [
        "x_train = x_train / 255\n",
        "x_test = x_test / 255"
      ]
    },
    {
      "cell_type": "code",
      "execution_count": null,
      "metadata": {
        "id": "4Z9CCAsRXea2"
      },
      "outputs": [],
      "source": [
        "x_train = x_train.reshape(-1, 28, 28, 1)\n",
        "x_test = x_test.reshape(-1, 28, 28, 1)"
      ]
    },
    {
      "cell_type": "code",
      "execution_count": null,
      "metadata": {
        "colab": {
          "base_uri": "https://localhost:8080/"
        },
        "id": "kR2vaDhdXpGB",
        "outputId": "abaf8ab4-f0f4-4a08-f8c6-433658c0f81c"
      },
      "outputs": [],
      "source": [
        "cnn_model = tf.keras.models.Sequential([\n",
        "    tf.keras.layers.Conv2D(filters=25, kernel_size=(3,3), activation='relu', input_shape=(28, 28, 1)),\n",
        "    tf.keras.layers.MaxPooling2D((2,2)),\n",
        "    tf.keras.layers.Conv2D(filters=64, kernel_size=(3,3), activation='relu'),\n",
        "    tf.keras.layers.MaxPooling2D((2,2)),\n",
        "    tf.keras.layers.Conv2D(filters=64, kernel_size=(3,3), activation='relu'),\n",
        "    tf.keras.layers.MaxPooling2D((2,2)),\n",
        "    tf.keras.layers.Flatten(),\n",
        "    tf.keras.layers.Dense(64, activation='relu'),\n",
        "    tf.keras.layers.Dense(10, activation='softmax')\n",
        "])"
      ]
    },
    {
      "cell_type": "code",
      "execution_count": null,
      "metadata": {
        "id": "MIxHK2IYYesa"
      },
      "outputs": [],
      "source": [
        "cnn_model.compile(optimizer='adam', loss='sparse_categorical_crossentropy', metrics=['accuracy'])"
      ]
    },
    {
      "cell_type": "code",
      "execution_count": null,
      "metadata": {
        "colab": {
          "base_uri": "https://localhost:8080/"
        },
        "id": "wL7LK7_qYxyb",
        "outputId": "9cdd3cb6-ab5c-4b06-fd01-9e13f0fbdfa3"
      },
      "outputs": [],
      "source": [
        "cnn_model.fit(x_train, y_train, epochs=5)"
      ]
    },
    {
      "cell_type": "code",
      "execution_count": null,
      "metadata": {
        "colab": {
          "base_uri": "https://localhost:8080/"
        },
        "id": "JQn3dlOoY2Cn",
        "outputId": "5048d16f-e80f-4ad4-e970-0b20a9026752"
      },
      "outputs": [],
      "source": [
        "cnn_model.evaluate(x_test, y_test)"
      ]
    },
    {
      "cell_type": "code",
      "execution_count": null,
      "metadata": {
        "colab": {
          "base_uri": "https://localhost:8080/"
        },
        "id": "dz3oNIKEY6h8",
        "outputId": "a02a8585-ce80-4e66-c217-177f3ce4fa92"
      },
      "outputs": [],
      "source": [
        "predictions = cnn_model.predict(x_test)"
      ]
    },
    {
      "cell_type": "code",
      "execution_count": null,
      "metadata": {
        "colab": {
          "base_uri": "https://localhost:8080/",
          "height": 447
        },
        "id": "59bQw5wjY-bA",
        "outputId": "098c427a-0834-4caf-8780-eb4352c6672f"
      },
      "outputs": [],
      "source": [
        "index = 6\n",
        "\n",
        "plt.imshow(x_test[index], cmap='gray')\n",
        "plt.show\n",
        "print('Predictions : ', np.argmax(predictions[index]))"
      ]
    },
    {
      "cell_type": "code",
      "execution_count": null,
      "metadata": {
        "id": "apO6hjQaC3O7"
      },
      "outputs": [],
      "source": [
        "with open('hand_written_digit_recognizer.pkl', 'wb') as file:\n",
        "    pickle.dump(cnn_model, file)"
      ]
    }
  ],
  "metadata": {
    "colab": {
      "provenance": []
    },
    "kernelspec": {
      "display_name": "Python 3",
      "name": "python3"
    },
    "language_info": {
      "name": "python",
      "version": "3.12.2"
    }
  },
  "nbformat": 4,
  "nbformat_minor": 0
}
